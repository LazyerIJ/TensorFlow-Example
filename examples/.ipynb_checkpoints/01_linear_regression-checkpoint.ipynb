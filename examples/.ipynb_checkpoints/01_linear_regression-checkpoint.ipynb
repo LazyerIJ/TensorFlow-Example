{
 "cells": [
  {
   "cell_type": "code",
   "execution_count": 2,
   "metadata": {},
   "outputs": [
    {
     "name": "stdout",
     "output_type": "stream",
     "text": [
      "[*]Init Weights\n",
      "[W1]=2.1 [W2]=1.0 <noiese>=20\n",
      "Epoch : 100 [cost]= 187.772 [W1]=2.107 [W2]=1.565 [b]=-1.015\n",
      "Epoch : 200 [cost]= 187.091 [W1]=2.112 [W2]=1.544 [b]=-1.250\n",
      "Epoch : 300 [cost]= 186.644 [W1]=2.115 [W2]=1.529 [b]=-1.411\n",
      "Epoch : 400 [cost]= 186.350 [W1]=2.117 [W2]=1.519 [b]=-1.520\n",
      "Epoch : 500 [cost]= 186.154 [W1]=2.118 [W2]=1.513 [b]=-1.595\n",
      "[*]Optimization Finished\n"
     ]
    },
    {
     "data": {
      "image/png": "[encoded data removed]",
      "text/plain": [
       "<Figure size 432x288 with 1 Axes>"
      ]
     },
     "metadata": {},
     "output_type": "display_data"
    }
   ],
   "source": [
    "import os\n",
    "import tensorflow as tf\n",
    "import numpy as np\n",
    "import matplotlib.pyplot as plt\n",
    "%matplotlib inline\n",
    "class DataSet():\n",
    "\n",
    "    def __init__(self,seed,n_samples,minx=-10,maxx=10):\n",
    "        self.seed = seed\n",
    "        self.data_x = np.linspace(minx,maxx,n_samples)\n",
    "        self.data_y = []\n",
    "\n",
    "    def initY(self,w1,w2,b):\n",
    "        for x in self.data_x:\n",
    "            self.data_y.append(w1*x*x + w2*x + self.seed.randn()*b)\n",
    "        \n",
    "\n",
    "class Model():\n",
    "\n",
    "    def __init__(self,seed,n_samples,learning_rate):\n",
    "\n",
    "        self.X = tf.placeholder(\"float\")\n",
    "        self.Y = tf.placeholder(\"float\")\n",
    "\n",
    "        self.W1 = tf.Variable(seed.randn(), name='weight1')\n",
    "        self.W2 = tf.Variable(seed.randn(), name='weight2')\n",
    "        self.b = tf.Variable(seed.randn(), name='bias')\n",
    "\n",
    "        poly1 = tf.multiply(tf.pow(self.X,2),self.W1)\n",
    "        poly2 = tf.multiply(self.X,self.W2)\n",
    "        pred = tf.add(tf.add(poly1,poly2),self.b)\n",
    "        self.cost = tf.reduce_sum(tf.pow(pred-self.Y,2))/(2*n_samples) \n",
    "        optimizer = tf.train.GradientDescentOptimizer(learning_rate)\n",
    "        self.train = optimizer.minimize(self.cost)\n",
    "\n",
    "    def train_model(self,sess,training_epochs,train_X,train_Y,display_step):\n",
    "\n",
    "        for epoch in range(training_epochs):\n",
    "            for (x, y) in zip(train_X, train_Y):\n",
    "                sess.run(self.train, feed_dict={self.X: x,self.Y: y})\n",
    "\n",
    "            if (epoch+1) % display_step == 0:\n",
    "                c = sess.run(self.cost, \n",
    "                             feed_dict={self.X: train_X, self.Y:train_Y})\n",
    "                print(\"Epoch : {0} [cost]={1:8.3f} [W1]={2:.3f} [W2]={3:.3f} [b]={4:.3f}\".format(epoch+1,c,sess.run(self.W1),sess.run(self.W2),sess.run(self.b)))\n",
    "        print('[*]Optimization Finished')\n",
    "\n",
    "    def plot_model(self,train_X,train_Y):\n",
    "\n",
    "        plt.plot(train_X, train_Y, 'ro', label='Original data')\n",
    "        plt.plot(train_X, sess.run(self.W1)*train_X*train_X + sess.run(self.W2) * train_X +\n",
    "                 sess.run(self.b), label='Fitted line')\n",
    "        plt.legend()\n",
    "        plt.show()\n",
    "\n",
    "if __name__=='__main__':\n",
    "\n",
    "    os.environ['TF_CPP_MIN_LOG_LEVEL'] = '3' \n",
    "    seed = np.random\n",
    "    n_samples = 100\n",
    "    training_epochs = 500\n",
    "    w1=2.1\n",
    "    w2=1.0\n",
    "    noise=20\n",
    "    \n",
    "    Mydata = DataSet(seed,n_samples)\n",
    "    Mydata.initY(w1=w1,w2=w2,b=noise)\n",
    "\n",
    "    sess = tf.Session()\n",
    "    Mymodel = Model(seed,n_samples,0.01)\n",
    "    sess.run(tf.global_variables_initializer())\n",
    "    print('[*]Init Weights\\n[W1]={0} [W2]={1} <noiese>={2}'.format(w1,w2,noise))\n",
    "\n",
    "    Mymodel.train_model(sess,\n",
    "                        train_X = Mydata.data_x,\n",
    "                        train_Y = Mydata.data_y,\n",
    "                        training_epochs=500,\n",
    "                        display_step=100)\n",
    "\n",
    "    Mymodel.plot_model(train_X = Mydata.data_x,\n",
    "                       train_Y = Mydata.data_y)\n",
    "\n"
   ]
  },
  {
   "cell_type": "code",
   "execution_count": null,
   "metadata": {},
   "outputs": [],
   "source": []
  }
 ],
 "metadata": {
  "kernelspec": {
   "display_name": "Python 3",
   "language": "python",
   "name": "python3"
  },
  "language_info": {
   "codemirror_mode": {
    "name": "ipython",
    "version": 3
   },
   "file_extension": ".py",
   "mimetype": "text/x-python",
   "name": "python",
   "nbconvert_exporter": "python",
   "pygments_lexer": "ipython3",
   "version": "3.6.5"
  }
 },
 "nbformat": 4,
 "nbformat_minor": 2
}
